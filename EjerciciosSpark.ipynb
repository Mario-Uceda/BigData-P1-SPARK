{
 "cells": [
  {
   "cell_type": "code",
   "execution_count": 1,
   "id": "3cdaca35-f1f4-4056-8f62-2a87d6c7eb6a",
   "metadata": {
    "collapsed": true,
    "jupyter": {
     "outputs_hidden": true
    },
    "tags": []
   },
   "outputs": [
    {
     "name": "stderr",
     "output_type": "stream",
     "text": [
      "WARNING: An illegal reflective access operation has occurred\n",
      "WARNING: Illegal reflective access by org.apache.spark.unsafe.Platform (file:/opt/spark/jars/spark-unsafe_2.12-3.2.1.jar) to constructor java.nio.DirectByteBuffer(long,int)\n",
      "WARNING: Please consider reporting this to the maintainers of org.apache.spark.unsafe.Platform\n",
      "WARNING: Use --illegal-access=warn to enable warnings of further illegal reflective access operations\n",
      "WARNING: All illegal access operations will be denied in a future release\n",
      "Setting default log level to \"WARN\".\n",
      "To adjust logging level use sc.setLogLevel(newLevel). For SparkR, use setLogLevel(newLevel).\n"
     ]
    }
   ],
   "source": [
    "from pyspark.sql import SparkSession\n",
    "import findspark\n",
    "import time\n",
    "\n",
    "findspark.init()\n",
    "spark = SparkSession.builder.getOrCreate()"
   ]
  },
  {
   "cell_type": "markdown",
   "id": "32d6c798-b7e8-4b55-83d1-755441990284",
   "metadata": {},
   "source": [
    "#Ejercicio1"
   ]
  },
  {
   "cell_type": "code",
   "execution_count": 14,
   "id": "ee94c8e4-f9b6-4321-b3ca-61ade150b837",
   "metadata": {
    "collapsed": true,
    "jupyter": {
     "outputs_hidden": true
    },
    "tags": []
   },
   "outputs": [
    {
     "name": "stderr",
     "output_type": "stream",
     "text": [
      "[Stage 95:=====================================================>  (61 + 3) / 64]\r"
     ]
    },
    {
     "name": "stdout",
     "output_type": "stream",
     "text": [
      "+------+-------+\n",
      "|rating|  count|\n",
      "+------+-------+\n",
      "|   0.5| 442388|\n",
      "|   1.0| 886233|\n",
      "|   1.5| 441354|\n",
      "|   2.0|1850627|\n",
      "|   2.5|1373419|\n",
      "|   3.0|5515668|\n",
      "|   3.5|3404360|\n",
      "|   4.0|7394710|\n",
      "|   4.5|2373550|\n",
      "|   5.0|4071135|\n",
      "+------+-------+\n",
      "\n",
      "La ejecución ha durado: 4.388800144195557 s\n"
     ]
    },
    {
     "name": "stderr",
     "output_type": "stream",
     "text": [
      "                                                                                \r"
     ]
    }
   ],
   "source": [
    "#Creamos un timestamp cuando iniciamos \n",
    "inicio = time.time()\n",
    "#Leemos el csv de ratings y lo guardamos en un dataframe\n",
    "df_ratings= spark.read.csv('/data/movielens/ratings.csv', header=True, inferSchema=True)\n",
    "#Contamos el los valores que hay en la columna rating\n",
    "frecuencia = df_ratings.groupBy('rating').count()\n",
    "#Ordenamos las valoraciones\n",
    "frecuencia = frecuencia.orderBy('rating')\n",
    "#Imprimimos el resultado\n",
    "frecuencia.show()\n",
    "#Creamos un timestamp cuando acabamos\n",
    "fin = time.time()\n",
    "#Imprimimos el tiempo de ejecucuión restando al tiempo de fin el tiempo de inicio\n",
    "print('La ejecución ha durado: '+ str(fin-inicio) +' s')"
   ]
  },
  {
   "cell_type": "markdown",
   "id": "600380fa-cdf1-40a2-89a3-784cbe018458",
   "metadata": {},
   "source": [
    "#Ejercicio2"
   ]
  },
  {
   "cell_type": "code",
   "execution_count": 15,
   "id": "7735733f-3540-481e-a893-ba71bc2e2479",
   "metadata": {
    "tags": []
   },
   "outputs": [
    {
     "name": "stderr",
     "output_type": "stream",
     "text": [
      "                                                                                \r"
     ]
    },
    {
     "name": "stdout",
     "output_type": "stream",
     "text": [
      "+-------+--------------------+--------------------+------------------+\n",
      "|movieId|               title|              genres|       avg(rating)|\n",
      "+-------+--------------------+--------------------+------------------+\n",
      "|   1591|        Spawn (1997)|Action|Adventure|...|2.6466656422864165|\n",
      "|   1645|The Devil's Advoc...|Drama|Mystery|Thr...|3.5352941176470587|\n",
      "|    471|Hudsucker Proxy, ...|              Comedy| 3.652908677283068|\n",
      "|   1088|Dirty Dancing (1987)|Drama|Musical|Rom...|3.2480141843971633|\n",
      "|   1580|Men in Black (a.k...|Action|Comedy|Sci-Fi| 3.578533203874726|\n",
      "|   3997|Dungeons & Dragon...|Action|Adventure|...| 2.072866344605475|\n",
      "|   3175| Galaxy Quest (1999)|Adventure|Comedy|...|3.5861305570513973|\n",
      "|   6620|American Splendor...|        Comedy|Drama| 3.786719849835758|\n",
      "|   2122|Children of the C...|     Horror|Thriller|2.6475240715268225|\n",
      "|   2142|American Tail: Fi...|Adventure|Animati...| 3.047996826656089|\n",
      "|   2866|Buddy Holly Story...|               Drama|3.6032974427994615|\n",
      "|   3918|Hellbound: Hellra...|              Horror| 2.978014656895403|\n",
      "|   4519|Land Before Time,...|Adventure|Animati...|3.3402777777777777|\n",
      "|   7982|Tale of Two Siste...|Drama|Horror|Myst...|3.6066810344827585|\n",
      "|   8638|Before Sunset (2004)|       Drama|Romance|3.9713673548889754|\n",
      "|  96488|Searching for Sug...|         Documentary|3.9714285714285715|\n",
      "|  54190|Across the Univer...|Drama|Fantasy|Mus...|3.5999607996863974|\n",
      "|    463|Guilty as Sin (1993)|Crime|Drama|Thriller| 2.810185185185185|\n",
      "|    833|High School High ...|              Comedy| 2.711587708066581|\n",
      "|   1342|     Candyman (1992)|     Horror|Thriller|2.9728327982217833|\n",
      "+-------+--------------------+--------------------+------------------+\n",
      "only showing top 20 rows\n",
      "\n"
     ]
    },
    {
     "name": "stderr",
     "output_type": "stream",
     "text": [
      "[Stage 107:=====================================================> (62 + 2) / 64]\r"
     ]
    },
    {
     "name": "stdout",
     "output_type": "stream",
     "text": [
      "La ejecución ha durado: 7.25434136390686 s\n"
     ]
    },
    {
     "name": "stderr",
     "output_type": "stream",
     "text": [
      "                                                                                \r"
     ]
    }
   ],
   "source": [
    "#Creamos un timestamp cuando iniciamos\n",
    "inicio = time.time()\n",
    "#Leemos el csv de movies y de ratings y los guardamos en dataframes\n",
    "df_ratings= spark.read.csv('/data/movielens/ratings.csv', header=True, inferSchema=True)\n",
    "df_movies= spark.read.csv('/data/movielens/movies.csv', header=True, inferSchema=True)\n",
    "#Hacemos la media de las valoranciones agrupando por id de la pelicula\n",
    "df_mean=df_ratings.groupBy('movieId').mean()\n",
    "#Eliminamos las columnas que no nos interesan \n",
    "df_mean=df_mean.drop('avg(userId)','avg(timestamp)','avg(movieId)')\n",
    "#Unimos los dos dataframes\n",
    "df_movies_ratings= df_movies.join(df_mean,['movieId'])\n",
    "#Imprimimos el resultado de la union de los dataframes\n",
    "df_movies_ratings.show()\n",
    "#guardamos el dataframe en un csv\n",
    "df_movies_ratings.write.mode('overwrite').csv(\"file:////home/22058951Mario/movies_rating.csv\")\n",
    "#Creamos un timestamp cuando acabamos\n",
    "fin = time.time()\n",
    "#Imprimimos el tiempo de ejecucuión restando al tiempo de fin el tiempo de inicio\n",
    "print('La ejecución ha durado: '+ str(fin-inicio) +' s')\n"
   ]
  },
  {
   "cell_type": "markdown",
   "id": "cc35b561-7a9f-4a6e-b7b0-7e75fe948e53",
   "metadata": {},
   "source": [
    "#Lectura del CSV generado"
   ]
  },
  {
   "cell_type": "code",
   "execution_count": 12,
   "id": "a0bf64e7-4288-4d4b-9df9-12a48d12e139",
   "metadata": {},
   "outputs": [
    {
     "name": "stdout",
     "output_type": "stream",
     "text": [
      "+------+--------------------+--------------------+------------------+\n",
      "|   _c0|                 _c1|                 _c2|               _c3|\n",
      "+------+--------------------+--------------------+------------------+\n",
      "|  1606|Kull the Conquero...|    Action|Adventure| 2.368817204301075|\n",
      "|  2617|   Mummy, The (1999)|Action|Adventure|...|3.1914869100294987|\n",
      "|  2762|Sixth Sense, The ...|Drama|Horror|Mystery| 4.015812129328487|\n",
      "|  2890|  Three Kings (1999)|Action|Adventure|...| 3.581133648235621|\n",
      "|  3146|Deuce Bigalow: Ma...|              Comedy|2.6200646501962597|\n",
      "|  3948|Meet the Parents ...|              Comedy| 3.405881543331651|\n",
      "|   135|Down Periscope (1...|              Comedy|  2.99909525655939|\n",
      "|   902|Breakfast at Tiff...|       Drama|Romance|3.8230095416862193|\n",
      "|  1095|Glengarry Glen Ro...|               Drama| 3.856262539409573|\n",
      "| 80463|Social Network, T...|               Drama| 3.764984002843939|\n",
      "|134853|   Inside Out (2015)|Adventure|Animati...|3.9604290211582107|\n",
      "| 34437|Broken Flowers (2...|        Comedy|Drama|3.6069858329262336|\n",
      "|   248|   Houseguest (1994)|              Comedy|3.0127144607843137|\n",
      "| 34534|Four Brothers (2005)|  Action|Crime|Drama|3.3435897435897437|\n",
      "|  2731|400 Blows, The (L...|         Crime|Drama| 4.108115777525539|\n",
      "|  6220|      Willard (2003)|Drama|Horror|Thri...|2.8273504273504275|\n",
      "| 81229|          Red (2010)|       Action|Comedy| 3.611749805144193|\n",
      "| 30812| Aviator, The (2004)|               Drama|3.5985842181969603|\n",
      "| 56620|Deaths of Ian Sto...|     Horror|Thriller|3.0706521739130435|\n",
      "|  2611|Winslow Boy, The ...|               Drama|3.8543123543123543|\n",
      "+------+--------------------+--------------------+------------------+\n",
      "only showing top 20 rows\n",
      "\n"
     ]
    }
   ],
   "source": [
    "df = spark.read.csv(\"file:////home/22058951Mario/movies_rating.csv\").show()"
   ]
  },
  {
   "cell_type": "code",
   "execution_count": null,
   "id": "9eadcf67-2305-4d3e-8e1b-8231f42dfb52",
   "metadata": {},
   "outputs": [],
   "source": []
  }
 ],
 "metadata": {
  "kernelspec": {
   "display_name": "Python 3 (ipykernel)",
   "language": "python",
   "name": "python3"
  },
  "language_info": {
   "codemirror_mode": {
    "name": "ipython",
    "version": 3
   },
   "file_extension": ".py",
   "mimetype": "text/x-python",
   "name": "python",
   "nbconvert_exporter": "python",
   "pygments_lexer": "ipython3",
   "version": "3.10.4"
  }
 },
 "nbformat": 4,
 "nbformat_minor": 5
}
